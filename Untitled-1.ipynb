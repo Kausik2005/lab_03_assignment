{
 "cells": [
  {
   "cell_type": "code",
   "execution_count": 15,
   "metadata": {},
   "outputs": [
    {
     "name": "stdout",
     "output_type": "stream",
     "text": [
      "[['Flight ID', 'From', 'To', 'Price'], ['Al161E90', 'BLR', 'BOM', 5600], ['BR161F91', 'BOM', 'BBI', 6750], ['Al161F91', 'BBI', 'BLR', 8210], ['VS171E20', 'JLR', 'BBI', 5500], ['AS171G30', 'HYD', 'JLR', 4400], ['AI131F49', 'HYD', 'BOM', 3499]]\n",
      "['Al161F91', 'BBI', 'BLR', 8210]\n"
     ]
    }
   ],
   "source": [
    "A = [[\"Flight ID\",\"From\",\"To\",\"Price\"],[\"Al161E90\",\"BLR\",\"BOM\",5600],\n",
    "    [\"BR161F91\",\"BOM\",\"BBI\",6750],\n",
    "[\"Al161F91\",\"BBI\",\"BLR\",8210],\n",
    "[\"VS171E20\",\"JLR\",\"BBI\",5500],\n",
    "[\"AS171G30\",\"HYD\",\"JLR\",4400],\n",
    "[\"AI131F49\",\"HYD\",\"BOM\",3499]]\n",
    "print(A)\n",
    "p = input(\"Select an option: 1. Flights for a particular City, 2. Flights From a city, 3. Flights between two given cities\")\n",
    "def from_city(A,p):\n",
    "    if p==\"1\":\n",
    "        q = input(\"Select the city\")\n",
    "        for i in A:\n",
    "            for j in i:\n",
    "                if j == q:\n",
    "                    if i[1]==q:\n",
    "                        print(i)\n",
    "\n",
    "def to_city(A,p):\n",
    "    if p==\"2\":\n",
    "        q = input(\"Select the city\")\n",
    "        for i in A:\n",
    "            for j in i:\n",
    "                if j == q:\n",
    "                    if i[2]==q:\n",
    "                        print(i)\n",
    "\n",
    "def from_to_city(A,p):\n",
    "    if p==\"3\":\n",
    "        q = input(\"Select the from city\")\n",
    "        r = input(\"Select the to city\")\n",
    "        for i in A:\n",
    "            for j in i:\n",
    "                if j == q:\n",
    "                    if i[1]==q:\n",
    "                        if i[2]==r:\n",
    "                            print(i)\n",
    "\n",
    "from_city(A,p)\n",
    "to_city(A,p)\n",
    "from_to_city(A,p)"
   ]
  },
  {
   "cell_type": "code",
   "execution_count": null,
   "metadata": {},
   "outputs": [],
   "source": []
  }
 ],
 "metadata": {
  "kernelspec": {
   "display_name": "Python 3",
   "language": "python",
   "name": "python3"
  },
  "language_info": {
   "codemirror_mode": {
    "name": "ipython",
    "version": 3
   },
   "file_extension": ".py",
   "mimetype": "text/x-python",
   "name": "python",
   "nbconvert_exporter": "python",
   "pygments_lexer": "ipython3",
   "version": "3.10.7"
  },
  "orig_nbformat": 4
 },
 "nbformat": 4,
 "nbformat_minor": 2
}
